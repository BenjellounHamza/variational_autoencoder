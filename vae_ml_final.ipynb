{
  "nbformat": 4,
  "nbformat_minor": 0,
  "metadata": {
    "colab": {
      "name": "vae_ml_final.ipynb",
      "provenance": [],
      "collapsed_sections": []
    },
    "kernelspec": {
      "name": "python3",
      "display_name": "Python 3"
    },
    "accelerator": "GPU"
  },
  "cells": [
    {
      "cell_type": "markdown",
      "metadata": {
        "id": "0NxP0ZNBvlhC"
      },
      "source": [
        "VAE"
      ]
    },
    {
      "cell_type": "code",
      "metadata": {
        "id": "BMJRTr1Z4mM9"
      },
      "source": [
        "from __future__ import absolute_import\n",
        "from __future__ import division\n",
        "from __future__ import print_function\n",
        "\n",
        "import functools\n",
        "import os\n",
        "\n",
        "# Dependency imports\n",
        "from absl import flags\n",
        "import numpy as np\n",
        "from six.moves import urllib\n",
        "import tensorflow.compat.v1 as tf\n",
        "import tensorflow_probability as tfp\n",
        "\n",
        "tfd = tfp.distributions\n",
        "\n",
        "IMAGE_SHAPE = [28, 28, 1]"
      ],
      "execution_count": null,
      "outputs": []
    },
    {
      "cell_type": "code",
      "metadata": {
        "id": "1a3Czf-NgzKR"
      },
      "source": [
        "\n",
        "from scipy.io import loadmat\n",
        "\n",
        "\n",
        "def load_omniglot(batch_size):\n",
        "    n_validation=1345\n",
        "    # set args\n",
        "    input_size = [1, 28, 28]\n",
        "    input_type = 'binary'\n",
        "    dynamic_binarization = True\n",
        "\n",
        "    # start processing\n",
        "    def reshape_data(data):\n",
        "        return data.reshape((-1, 28, 28)).reshape((-1, 28*28), order='F')\n",
        "    omni_raw = loadmat(os.path.join('/content', 'chardata.mat'))\n",
        "\n",
        "    # train and test data\n",
        "    train_data = reshape_data(omni_raw['data'].T.astype('float32'))\n",
        "    x_test = reshape_data(omni_raw['testdata'].T.astype('float32'))\n",
        "\n",
        "    # shuffle train data\n",
        "    np.random.shuffle(train_data)\n",
        "\n",
        "    # set train and validation data\n",
        "    x_train = train_data[:-n_validation]\n",
        "    x_val = train_data[-n_validation:]\n",
        "\n",
        "    # binarize\n",
        "    np.random.seed(777)\n",
        "    x_val = np.random.binomial(1, x_val)\n",
        "    x_test = np.random.binomial(1, x_test)\n",
        "\n",
        "    # idle y's\n",
        "    y_train = np.zeros( (x_train.shape[0], 1) )\n",
        "    y_val = np.zeros( (x_val.shape[0], 1) )\n",
        "    y_test = np.zeros( (x_test.shape[0], 1) )\n",
        "    \n",
        "    \n",
        "\n",
        "\n",
        "    def train():\n",
        "      train_dataset = tf.data.Dataset.from_tensor_slices((x_train, y_train))\n",
        "      train_dataset.shuffle(50000).repeat().batch(batch_size)\n",
        "      return tf.compat.v1.data.make_one_shot_iterator(train_dataset).get_next()\n",
        "\n",
        "    def eval():\n",
        "      validation_dataset = tf.data.Dataset.from_tensor_slices((x_val, y_val))\n",
        "      validation_dataset.batch(batch_size)\n",
        "      return tf.compat.v1.data.make_one_shot_iterator(validation_dataset).get_next()\n",
        "\n",
        "    #validation = data_utils.TensorDataset(torch.from_numpy(x_val).float(), torch.from_numpy(y_val))\n",
        "    #val_loader = data_utils.DataLoader(validation, batch_size=args.test_batch_size, shuffle=False, **kwargs)\n",
        "\n",
        "    return train, eval"
      ],
      "execution_count": null,
      "outputs": []
    },
    {
      "cell_type": "code",
      "metadata": {
        "id": "Wv4bJp1D4wuy"
      },
      "source": [
        "def _softplus_inverse(x):\n",
        "  \"\"\"Helper which computes the function inverse of `tf.nn.softplus`.\"\"\"\n",
        "  return tf.math.log(tf.math.expm1(x))\n",
        "\n",
        "\n",
        "def make_encoder(activation, latent_size, base_depth):\n",
        "  \"\"\"Creates the encoder function.\n",
        "\n",
        "  Args:\n",
        "    activation: Activation function in hidden layers.\n",
        "    latent_size: The dimensionality of the encoding.\n",
        "    base_depth: The lowest depth for a layer.\n",
        "\n",
        "  Returns:\n",
        "    encoder: A `callable` mapping a `Tensor` of images to a\n",
        "      `tfd.Distribution` instance over encodings.\n",
        "  \"\"\"\n",
        "  # conv = functools.partial(\n",
        "  #     tf.keras.layers.Conv2D, padding=\"SAME\", activation=activation)\n",
        "\n",
        "  # encoder_net = tf.keras.Sequential([\n",
        "  #     conv(base_depth, 5, 1),\n",
        "  #     conv(base_depth, 5, 2),\n",
        "  #     conv(2 * base_depth, 5, 1),\n",
        "  #     conv(2 * base_depth, 5, 2),\n",
        "  #     conv(4 * latent_size, 7, padding=\"VALID\"),\n",
        "  #     tf.keras.layers.Flatten(),\n",
        "  #     tf.keras.layers.Dense(2 * latent_size, activation=None),\n",
        "  # ])\n",
        "  encoder_net = tf.keras.Sequential([\n",
        "        tf.keras.layers.Flatten(),\n",
        "        tf.keras.layers.Dense(300, input_dim= 28*28),\n",
        "        tf.keras.layers.Dense(300, activation = tf.nn.silu),\n",
        "        tf.keras.layers.Dense(300, activation = tf.nn.silu),\n",
        "        tf.keras.layers.Dense(2 * latent_size, activation=None),\n",
        "    ])\n",
        "  def encoder(images):\n",
        "    images = 2 * tf.cast(images, dtype=tf.float32) - 1\n",
        "    net = encoder_net(images)\n",
        "    return tfd.MultivariateNormalDiag(\n",
        "        loc= net[..., :latent_size],\n",
        "        scale_diag=tf.nn.softplus(net[..., latent_size:] +\n",
        "                                  _softplus_inverse(1.0)),\n",
        "        name=\"code\")\n",
        "\n",
        "  return encoder\n",
        "\n",
        "\n",
        "def make_decoder(activation, latent_size, output_shape, base_depth):\n",
        "  \"\"\"Creates the decoder function.\n",
        "\n",
        "  Args:\n",
        "    activation: Activation function in hidden layers.\n",
        "    latent_size: Dimensionality of the encoding.\n",
        "    output_shape: The output image shape.\n",
        "    base_depth: Smallest depth for a layer.\n",
        "\n",
        "  Returns:\n",
        "    decoder: A `callable` mapping a `Tensor` of encodings to a\n",
        "      `tfd.Distribution` instance over images.\n",
        "  \"\"\"\n",
        "  # deconv = functools.partial(\n",
        "  #     tf.keras.layers.Conv2DTranspose, padding=\"SAME\", activation=activation)\n",
        "  # conv = functools.partial(\n",
        "  #     tf.keras.layers.Conv2D, padding=\"SAME\", activation=activation)\n",
        "\n",
        "  # decoder_net = tf.keras.Sequential([\n",
        "  #     deconv(2 * base_depth, 7, padding=\"VALID\"),\n",
        "  #     deconv(2 * base_depth, 5),\n",
        "  #     deconv(2 * base_depth, 5, 2),\n",
        "  #     deconv(base_depth, 5),\n",
        "  #     deconv(base_depth, 5, 2),\n",
        "  #     deconv(base_depth, 5),\n",
        "  #     conv(output_shape[-1], 5, activation=None),\n",
        "  # ])\n",
        "\n",
        "  decoder_net = tf.keras.Sequential([\n",
        "        tf.keras.layers.Dense(300, input_dim= latent_size),\n",
        "        tf.keras.layers.Dense(300,  activation = tf.nn.silu),\n",
        "        tf.keras.layers.Dense(300,  activation = tf.nn.silu),\n",
        "        tf.keras.layers.Dense(28 * 28 , activation=None),\n",
        "    ])\n",
        "\n",
        "  def decoder(codes):\n",
        "    original_shape = tf.shape(input=codes)\n",
        "    # Collapse the sample and batch dimension and convert to rank-4 tensor for\n",
        "    # use with a convolutional decoder network.\n",
        "    codes = tf.reshape(codes, (-1, 1, 1, latent_size))\n",
        "    logits = decoder_net(codes)\n",
        "    logits = tf.reshape(\n",
        "        logits, shape=tf.concat([original_shape[:-1], output_shape], axis=0))\n",
        "    return tfd.Independent(tfd.Bernoulli(logits=logits),\n",
        "                           reinterpreted_batch_ndims=len(output_shape),\n",
        "                           name=\"image\")\n",
        "\n",
        "  return decoder"
      ],
      "execution_count": null,
      "outputs": []
    },
    {
      "cell_type": "code",
      "metadata": {
        "id": "AMpXvDL0vjv-"
      },
      "source": [
        "def make_mixture_prior(latent_size, mixture_components):\n",
        "  \"\"\"Creates the mixture of Gaussians prior distribution.\n",
        "\n",
        "  Args:\n",
        "    latent_size: The dimensionality of the latent representation.\n",
        "    mixture_components: Number of elements of the mixture.\n",
        "\n",
        "  Returns:\n",
        "    random_prior: A `tfd.Distribution` instance representing the distribution\n",
        "      over encodings in the absence of any evidence.\n",
        "  \"\"\"\n",
        "  if mixture_components == 1:\n",
        "    # See the module docstring for why we don't learn the parameters here.\n",
        "    return tfd.MultivariateNormalDiag(\n",
        "        loc=tf.zeros([latent_size]),\n",
        "        scale_identity_multiplier=1.0)\n",
        "\n",
        "  loc = tf.compat.v1.get_variable(\n",
        "      name=\"loc\", shape=[mixture_components, latent_size])\n",
        "  raw_scale_diag = tf.compat.v1.get_variable(\n",
        "      name=\"raw_scale_diag\", shape=[mixture_components, latent_size])\n",
        "  mixture_logits = tf.compat.v1.get_variable(\n",
        "      name=\"mixture_logits\", shape=[mixture_components])\n",
        "\n",
        "  return tfd.MixtureSameFamily(\n",
        "      components_distribution=tfd.MultivariateNormalDiag(\n",
        "          loc=loc,\n",
        "          scale_diag=tf.nn.softplus(raw_scale_diag)),\n",
        "      mixture_distribution=tfd.Categorical(logits=mixture_logits),\n",
        "      name=\"prior\")\n",
        "\n",
        "\n",
        "def pack_images(images, rows, cols):\n",
        "  \"\"\"Helper utility to make a field of images.\"\"\"\n",
        "  shape = tf.shape(input=images)\n",
        "  width = shape[-3]\n",
        "  height = shape[-2]\n",
        "  depth = shape[-1]\n",
        "  images = tf.reshape(images, (-1, width, height, depth))\n",
        "  batch = tf.shape(input=images)[0]\n",
        "  rows = tf.minimum(rows, batch)\n",
        "  cols = tf.minimum(batch // rows, cols)\n",
        "  images = images[:rows * cols]\n",
        "  images = tf.reshape(images, (rows, cols, width, height, depth))\n",
        "  images = tf.transpose(a=images, perm=[0, 2, 1, 3, 4])\n",
        "  images = tf.reshape(images, [1, rows * width, cols * height, depth])\n",
        "  return images\n",
        "\n",
        "\n",
        "def image_tile_summary(name, tensor, rows=8, cols=8):\n",
        "  tf.compat.v1.summary.image(\n",
        "      name, pack_images(tensor, rows, cols), max_outputs=1)\n",
        "\n",
        "\n",
        "def model_fn(features, labels, mode, params, config):\n",
        "  \"\"\"Builds the model function for use in an estimator.\n",
        "\n",
        "  Args:\n",
        "    features: The input features for the estimator.\n",
        "    labels: The labels, unused here.\n",
        "    mode: Signifies whether it is train or test or predict.\n",
        "    params: Some hyperparameters as a dictionary.\n",
        "    config: The RunConfig, unused here.\n",
        "\n",
        "  Returns:\n",
        "    EstimatorSpec: A tf.estimator.EstimatorSpec instance.\n",
        "  \"\"\"\n",
        "  del labels, config\n",
        "\n",
        "  encoder = make_encoder(params[\"activation\"],\n",
        "                         params[\"latent_size\"],\n",
        "                         params[\"base_depth\"])\n",
        "  decoder = make_decoder(params[\"activation\"],\n",
        "                         params[\"latent_size\"],\n",
        "                         IMAGE_SHAPE,\n",
        "                         params[\"base_depth\"])\n",
        "  latent_prior = make_mixture_prior(params[\"latent_size\"],\n",
        "                                    params[\"mixture_components\"])\n",
        "\n",
        "  image_tile_summary(\n",
        "      \"input\", tf.cast(features, dtype=tf.float32), rows=1, cols=16)\n",
        "\n",
        "  approx_posterior = encoder(features)\n",
        "  approx_posterior_sample = approx_posterior.sample(params[\"n_samples\"])\n",
        "  decoder_likelihood = decoder(approx_posterior_sample)\n",
        "  image_tile_summary(\n",
        "      \"recon/sample\",\n",
        "      tf.cast(decoder_likelihood.sample()[:3, :16], dtype=tf.float32),\n",
        "      rows=3,\n",
        "      cols=16)\n",
        "  image_tile_summary(\n",
        "      \"recon/mean\",\n",
        "      decoder_likelihood.mean()[:3, :16],\n",
        "      rows=3,\n",
        "      cols=16)\n",
        "\n",
        "  # `distortion` is just the negative log likelihood.\n",
        "  distortion = -decoder_likelihood.log_prob(features)\n",
        "  avg_distortion = tf.reduce_mean(input_tensor=distortion)\n",
        "  tf.compat.v1.summary.scalar(\"distortion\", avg_distortion)\n",
        "  print(\"LOGLIKELIHOOD : \", -avg_distortion)\n",
        "\n",
        "  rate = (approx_posterior.log_prob(approx_posterior_sample)\n",
        "            - latent_prior.log_prob(approx_posterior_sample))\n",
        "  \n",
        "  avg_rate = tf.reduce_mean(input_tensor=rate)\n",
        "  tf.compat.v1.summary.scalar(\"rate\", avg_rate)\n",
        "\n",
        "  elbo_local = -(rate + distortion)\n",
        "\n",
        "  elbo = tf.reduce_mean(input_tensor=elbo_local)\n",
        "  loss = -elbo\n",
        "  tf.compat.v1.summary.scalar(\"elbo\", elbo)\n",
        "\n",
        "  importance_weighted_elbo = tf.reduce_mean(\n",
        "      input_tensor=tf.reduce_logsumexp(input_tensor=elbo_local, axis=0) -\n",
        "      tf.math.log(tf.cast(params[\"n_samples\"], dtype=tf.float32)))\n",
        "  tf.compat.v1.summary.scalar(\"elbo/importance_weighted\",\n",
        "                              importance_weighted_elbo)\n",
        "\n",
        "  # Decode samples from the prior for visualization.\n",
        "  random_image = decoder(latent_prior.sample(16))\n",
        "  image_tile_summary(\n",
        "      \"random/sample\",\n",
        "      tf.cast(random_image.sample(), dtype=tf.float32),\n",
        "      rows=4,\n",
        "      cols=4)\n",
        "  image_tile_summary(\"random/mean\", random_image.mean(), rows=4, cols=4)\n",
        "\n",
        "  # Perform variational inference by minimizing the -ELBO.\n",
        "  global_step = tf.compat.v1.train.get_or_create_global_step()\n",
        "  learning_rate = tf.compat.v1.train.cosine_decay(\n",
        "      params[\"learning_rate\"], global_step, params[\"max_steps\"])\n",
        "  tf.compat.v1.summary.scalar(\"learning_rate\", learning_rate)\n",
        "  optimizer = tf.compat.v1.train.AdamOptimizer(learning_rate)\n",
        "  train_op = optimizer.minimize(loss, global_step=global_step)\n",
        "\n",
        "  return tf.estimator.EstimatorSpec(\n",
        "      mode=mode,\n",
        "      loss=loss,\n",
        "      train_op=train_op,\n",
        "      eval_metric_ops={\n",
        "          \"elbo\":\n",
        "              tf.compat.v1.metrics.mean(elbo),\n",
        "          \"elbo/importance_weighted\":\n",
        "              tf.compat.v1.metrics.mean(importance_weighted_elbo),\n",
        "          \"rate\":\n",
        "              tf.compat.v1.metrics.mean(avg_rate),\n",
        "          \"distortion\":\n",
        "              tf.compat.v1.metrics.mean(avg_distortion),\n",
        "      },\n",
        "  )"
      ],
      "execution_count": null,
      "outputs": []
    },
    {
      "cell_type": "code",
      "metadata": {
        "id": "Ui7pOIma3rXE"
      },
      "source": [
        "%rm -rf Results/"
      ],
      "execution_count": null,
      "outputs": []
    },
    {
      "cell_type": "code",
      "metadata": {
        "colab": {
          "base_uri": "https://localhost:8080/",
          "height": 1000
        },
        "id": "0EqhK09i5AZH",
        "outputId": "72d2a1e5-420a-4741-9d61-7def41872834"
      },
      "source": [
        "ROOT_PATH = \"http://www.cs.toronto.edu/~larocheh/public/datasets/binarized_mnist/\"\n",
        "FILE_TEMPLATE = \"binarized_mnist_{split}.amat\"\n",
        "\n",
        "# ROOT_PATH = \"https://people.cs.umass.edu/~marlin/data/\"\n",
        "# FILE_TEMPLATE = \"caltech101_silhouettes_28_split1.mat\"\n",
        "\n",
        "\n",
        "def download(directory, filename):\n",
        "  \"\"\"Downloads a file.\"\"\"\n",
        "  filepath = os.path.join(directory, filename)\n",
        "  if tf.io.gfile.exists(filepath):\n",
        "    return filepath\n",
        "  if not tf.io.gfile.exists(directory):\n",
        "    tf.io.gfile.makedirs(directory)\n",
        "  url = os.path.join(ROOT_PATH, filename)\n",
        "  print(\"Downloading %s to %s\" % (url, filepath))\n",
        "  urllib.request.urlretrieve(url, filepath)\n",
        "  return filepath\n",
        "\n",
        "\n",
        "def static_mnist_dataset(directory, split_name):\n",
        "  \"\"\"Returns binary static MNIST tf.data.Dataset.\"\"\"\n",
        "  amat_file = download(directory, FILE_TEMPLATE.format(split=split_name))\n",
        "  dataset = tf.data.TextLineDataset(amat_file)\n",
        "  str_to_arr = lambda string: np.array([c == b\"1\" for c in string.split()])\n",
        "\n",
        "  def _parser(s):\n",
        "    booltensor = tf.compat.v1.py_func(str_to_arr, [s], tf.bool)\n",
        "    reshaped = tf.reshape(booltensor, [28, 28, 1])\n",
        "    return tf.cast(reshaped, dtype=tf.float32), tf.constant(0, tf.int32)\n",
        "\n",
        "  return dataset.map(_parser)\n",
        "\n",
        "\n",
        "\n",
        "def build_input_fns(data_dir, batch_size):\n",
        "  \"\"\"Builds an Iterator switching between train and heldout data.\"\"\"\n",
        "\n",
        "  # Build an iterator over training batches.\n",
        "  def train_input_fn():\n",
        "    dataset = static_mnist_dataset(data_dir, \"train\")\n",
        "    dataset = dataset.shuffle(50000).repeat().batch(batch_size)\n",
        "    return tf.compat.v1.data.make_one_shot_iterator(dataset).get_next()\n",
        "\n",
        "  # Build an iterator over the heldout set.\n",
        "  def eval_input_fn():\n",
        "    eval_dataset = static_mnist_dataset(data_dir, \"valid\")\n",
        "    eval_dataset = eval_dataset.batch(batch_size)\n",
        "    return tf.compat.v1.data.make_one_shot_iterator(eval_dataset).get_next()\n",
        "\n",
        "  return train_input_fn, eval_input_fn\n",
        "\n",
        "\n",
        "def main(argv):\n",
        "  del argv  # unused\n",
        "\n",
        "  params = {}\n",
        "  params[\"learning_rate\"] = 0.001\n",
        "  params[\"max_steps\"] = 500\n",
        "  params[\"latent_size\"] = 16\n",
        "  params[\"base_depth\"] = 32\n",
        "  params[\"activation\"] = getattr(tf.nn, \"leaky_relu\")\n",
        "  params[\"batch_size\"] = 32\n",
        "  params[\"n_samples\"] = 16\n",
        "  params[\"mixture_components\"] = 10 #standard\n",
        "  params[\"viz_steps\"] = 4000\n",
        "\n",
        "  # model_dir = \"\\content\\Results\"\n",
        "  data_dir =os.path.join(os.getenv(\"TEST_TMPDIR\", \"/tmp\"), \"vae/data\")\n",
        "\n",
        "  train_input_fn, eval_input_fn = build_input_fns(data_dir, params[\"batch_size\"])\n",
        "  #train_1, eval_1 = load_omniglot(16)\n",
        "\n",
        "  estimator = tf.estimator.Estimator(\n",
        "      model_fn,\n",
        "      params=params,\n",
        "      config=None\n",
        "  )\n",
        "\n",
        "  estimator = tf.estimator.Estimator(\n",
        "      model_fn,\n",
        "      params=params,\n",
        "      config=tf.estimator.RunConfig(\n",
        "          model_dir=\"/content/Results\",\n",
        "          save_checkpoints_steps=params[\"viz_steps\"],\n",
        "      )\n",
        "  )\n",
        "\n",
        "\n",
        "\n",
        "  # for _ in range(params[\"max_steps\"] // params[\"viz_steps\"]):\n",
        "  #   estimator.train(train_input_fn, steps=params[\"viz_steps\"])\n",
        "  #   eval_results = estimator.evaluate(eval_input_fn)\n",
        "  #   print(\"Evaluation_results:\\n\\t%s\\n \" % eval_results)\n",
        "\n",
        "  estimator.train(train_input_fn, steps=params[\"viz_steps\"])\n",
        "  print(\"##################### TRAINING FINISHED ############################\")\n",
        "  eval_results = estimator.evaluate(eval_input_fn)\n",
        "  print(\"Evaluation_results:\\n\\t%s\\n \" % eval_results)\n",
        "\n",
        "if __name__ == \"__main__\":\n",
        "  tf.compat.v1.app.run()"
      ],
      "execution_count": null,
      "outputs": [
        {
          "output_type": "stream",
          "text": [
            "INFO:tensorflow:Using default config.\n"
          ],
          "name": "stdout"
        },
        {
          "output_type": "stream",
          "text": [
            "I0114 17:08:38.259777 139748708702080 estimator.py:1825] Using default config.\n"
          ],
          "name": "stderr"
        },
        {
          "output_type": "stream",
          "text": [
            "WARNING:tensorflow:Using temporary folder as model directory: /tmp/tmpus9u5lw7\n"
          ],
          "name": "stdout"
        },
        {
          "output_type": "stream",
          "text": [
            "W0114 17:08:38.261860 139748708702080 estimator.py:1847] Using temporary folder as model directory: /tmp/tmpus9u5lw7\n"
          ],
          "name": "stderr"
        },
        {
          "output_type": "stream",
          "text": [
            "INFO:tensorflow:Using config: {'_model_dir': '/tmp/tmpus9u5lw7', '_tf_random_seed': None, '_save_summary_steps': 100, '_save_checkpoints_steps': None, '_save_checkpoints_secs': 600, '_session_config': allow_soft_placement: true\n",
            "graph_options {\n",
            "  rewrite_options {\n",
            "    meta_optimizer_iterations: ONE\n",
            "  }\n",
            "}\n",
            ", '_keep_checkpoint_max': 5, '_keep_checkpoint_every_n_hours': 10000, '_log_step_count_steps': 100, '_train_distribute': None, '_device_fn': None, '_protocol': None, '_eval_distribute': None, '_experimental_distribute': None, '_experimental_max_worker_delay_secs': None, '_session_creation_timeout_secs': 7200, '_checkpoint_save_graph_def': True, '_service': None, '_cluster_spec': ClusterSpec({}), '_task_type': 'worker', '_task_id': 0, '_global_id_in_cluster': 0, '_master': '', '_evaluation_master': '', '_is_chief': True, '_num_ps_replicas': 0, '_num_worker_replicas': 1}\n"
          ],
          "name": "stdout"
        },
        {
          "output_type": "stream",
          "text": [
            "I0114 17:08:38.263330 139748708702080 estimator.py:191] Using config: {'_model_dir': '/tmp/tmpus9u5lw7', '_tf_random_seed': None, '_save_summary_steps': 100, '_save_checkpoints_steps': None, '_save_checkpoints_secs': 600, '_session_config': allow_soft_placement: true\n",
            "graph_options {\n",
            "  rewrite_options {\n",
            "    meta_optimizer_iterations: ONE\n",
            "  }\n",
            "}\n",
            ", '_keep_checkpoint_max': 5, '_keep_checkpoint_every_n_hours': 10000, '_log_step_count_steps': 100, '_train_distribute': None, '_device_fn': None, '_protocol': None, '_eval_distribute': None, '_experimental_distribute': None, '_experimental_max_worker_delay_secs': None, '_session_creation_timeout_secs': 7200, '_checkpoint_save_graph_def': True, '_service': None, '_cluster_spec': ClusterSpec({}), '_task_type': 'worker', '_task_id': 0, '_global_id_in_cluster': 0, '_master': '', '_evaluation_master': '', '_is_chief': True, '_num_ps_replicas': 0, '_num_worker_replicas': 1}\n"
          ],
          "name": "stderr"
        },
        {
          "output_type": "stream",
          "text": [
            "INFO:tensorflow:Using config: {'_model_dir': '/content/Results', '_tf_random_seed': None, '_save_summary_steps': 100, '_save_checkpoints_steps': 4000, '_save_checkpoints_secs': None, '_session_config': allow_soft_placement: true\n",
            "graph_options {\n",
            "  rewrite_options {\n",
            "    meta_optimizer_iterations: ONE\n",
            "  }\n",
            "}\n",
            ", '_keep_checkpoint_max': 5, '_keep_checkpoint_every_n_hours': 10000, '_log_step_count_steps': 100, '_train_distribute': None, '_device_fn': None, '_protocol': None, '_eval_distribute': None, '_experimental_distribute': None, '_experimental_max_worker_delay_secs': None, '_session_creation_timeout_secs': 7200, '_checkpoint_save_graph_def': True, '_service': None, '_cluster_spec': ClusterSpec({}), '_task_type': 'worker', '_task_id': 0, '_global_id_in_cluster': 0, '_master': '', '_evaluation_master': '', '_is_chief': True, '_num_ps_replicas': 0, '_num_worker_replicas': 1}\n"
          ],
          "name": "stdout"
        },
        {
          "output_type": "stream",
          "text": [
            "I0114 17:08:38.265252 139748708702080 estimator.py:191] Using config: {'_model_dir': '/content/Results', '_tf_random_seed': None, '_save_summary_steps': 100, '_save_checkpoints_steps': 4000, '_save_checkpoints_secs': None, '_session_config': allow_soft_placement: true\n",
            "graph_options {\n",
            "  rewrite_options {\n",
            "    meta_optimizer_iterations: ONE\n",
            "  }\n",
            "}\n",
            ", '_keep_checkpoint_max': 5, '_keep_checkpoint_every_n_hours': 10000, '_log_step_count_steps': 100, '_train_distribute': None, '_device_fn': None, '_protocol': None, '_eval_distribute': None, '_experimental_distribute': None, '_experimental_max_worker_delay_secs': None, '_session_creation_timeout_secs': 7200, '_checkpoint_save_graph_def': True, '_service': None, '_cluster_spec': ClusterSpec({}), '_task_type': 'worker', '_task_id': 0, '_global_id_in_cluster': 0, '_master': '', '_evaluation_master': '', '_is_chief': True, '_num_ps_replicas': 0, '_num_worker_replicas': 1}\n"
          ],
          "name": "stderr"
        },
        {
          "output_type": "stream",
          "text": [
            "INFO:tensorflow:Calling model_fn.\n"
          ],
          "name": "stdout"
        },
        {
          "output_type": "stream",
          "text": [
            "I0114 17:08:38.317422 139748708702080 estimator.py:1162] Calling model_fn.\n"
          ],
          "name": "stderr"
        },
        {
          "output_type": "stream",
          "text": [
            "WARNING:tensorflow:Model was constructed with shape (None, 16) for input Tensor(\"dense_4_input:0\", shape=(None, 16), dtype=float32), but it was called on an input with incompatible shape (None, 1, 1, 16).\n"
          ],
          "name": "stdout"
        },
        {
          "output_type": "stream",
          "text": [
            "W0114 17:08:38.509072 139748708702080 functional.py:639] Model was constructed with shape (None, 16) for input Tensor(\"dense_4_input:0\", shape=(None, 16), dtype=float32), but it was called on an input with incompatible shape (None, 1, 1, 16).\n"
          ],
          "name": "stderr"
        },
        {
          "output_type": "stream",
          "text": [
            "LOGLIKELIHOOD :  Tensor(\"Neg_1:0\", shape=(), dtype=float32)\n",
            "WARNING:tensorflow:Model was constructed with shape (None, 16) for input Tensor(\"dense_4_input:0\", shape=(None, 16), dtype=float32), but it was called on an input with incompatible shape (16, 1, 1, 16).\n"
          ],
          "name": "stdout"
        },
        {
          "output_type": "stream",
          "text": [
            "W0114 17:08:38.765666 139748708702080 functional.py:639] Model was constructed with shape (None, 16) for input Tensor(\"dense_4_input:0\", shape=(None, 16), dtype=float32), but it was called on an input with incompatible shape (16, 1, 1, 16).\n"
          ],
          "name": "stderr"
        },
        {
          "output_type": "stream",
          "text": [
            "INFO:tensorflow:Done calling model_fn.\n"
          ],
          "name": "stdout"
        },
        {
          "output_type": "stream",
          "text": [
            "I0114 17:08:39.340836 139748708702080 estimator.py:1164] Done calling model_fn.\n"
          ],
          "name": "stderr"
        },
        {
          "output_type": "stream",
          "text": [
            "INFO:tensorflow:Create CheckpointSaverHook.\n"
          ],
          "name": "stdout"
        },
        {
          "output_type": "stream",
          "text": [
            "I0114 17:08:39.343946 139748708702080 basic_session_run_hooks.py:546] Create CheckpointSaverHook.\n"
          ],
          "name": "stderr"
        },
        {
          "output_type": "stream",
          "text": [
            "INFO:tensorflow:Graph was finalized.\n"
          ],
          "name": "stdout"
        },
        {
          "output_type": "stream",
          "text": [
            "I0114 17:08:39.471430 139748708702080 monitored_session.py:246] Graph was finalized.\n"
          ],
          "name": "stderr"
        },
        {
          "output_type": "stream",
          "text": [
            "INFO:tensorflow:Running local_init_op.\n"
          ],
          "name": "stdout"
        },
        {
          "output_type": "stream",
          "text": [
            "I0114 17:08:39.599635 139748708702080 session_manager.py:505] Running local_init_op.\n"
          ],
          "name": "stderr"
        },
        {
          "output_type": "stream",
          "text": [
            "INFO:tensorflow:Done running local_init_op.\n"
          ],
          "name": "stdout"
        },
        {
          "output_type": "stream",
          "text": [
            "I0114 17:08:39.616407 139748708702080 session_manager.py:508] Done running local_init_op.\n"
          ],
          "name": "stderr"
        },
        {
          "output_type": "stream",
          "text": [
            "INFO:tensorflow:Calling checkpoint listeners before saving checkpoint 0...\n"
          ],
          "name": "stdout"
        },
        {
          "output_type": "stream",
          "text": [
            "I0114 17:08:40.277641 139748708702080 basic_session_run_hooks.py:614] Calling checkpoint listeners before saving checkpoint 0...\n"
          ],
          "name": "stderr"
        },
        {
          "output_type": "stream",
          "text": [
            "INFO:tensorflow:Saving checkpoints for 0 into /content/Results/model.ckpt.\n"
          ],
          "name": "stdout"
        },
        {
          "output_type": "stream",
          "text": [
            "I0114 17:08:40.281931 139748708702080 basic_session_run_hooks.py:618] Saving checkpoints for 0 into /content/Results/model.ckpt.\n"
          ],
          "name": "stderr"
        },
        {
          "output_type": "stream",
          "text": [
            "INFO:tensorflow:Calling checkpoint listeners after saving checkpoint 0...\n"
          ],
          "name": "stdout"
        },
        {
          "output_type": "stream",
          "text": [
            "I0114 17:08:40.431210 139748708702080 basic_session_run_hooks.py:626] Calling checkpoint listeners after saving checkpoint 0...\n"
          ],
          "name": "stderr"
        },
        {
          "output_type": "stream",
          "text": [
            "INFO:tensorflow:loss = 551.2169, step = 0\n"
          ],
          "name": "stdout"
        },
        {
          "output_type": "stream",
          "text": [
            "I0114 17:08:51.245802 139748708702080 basic_session_run_hooks.py:262] loss = 551.2169, step = 0\n"
          ],
          "name": "stderr"
        },
        {
          "output_type": "stream",
          "text": [
            "INFO:tensorflow:global_step/sec: 67.3373\n"
          ],
          "name": "stdout"
        },
        {
          "output_type": "stream",
          "text": [
            "I0114 17:08:52.730159 139748708702080 basic_session_run_hooks.py:702] global_step/sec: 67.3373\n"
          ],
          "name": "stderr"
        },
        {
          "output_type": "stream",
          "text": [
            "INFO:tensorflow:loss = 194.07112, step = 100 (1.489 sec)\n"
          ],
          "name": "stdout"
        },
        {
          "output_type": "stream",
          "text": [
            "I0114 17:08:52.735260 139748708702080 basic_session_run_hooks.py:260] loss = 194.07112, step = 100 (1.489 sec)\n"
          ],
          "name": "stderr"
        },
        {
          "output_type": "stream",
          "text": [
            "INFO:tensorflow:global_step/sec: 77.8693\n"
          ],
          "name": "stdout"
        },
        {
          "output_type": "stream",
          "text": [
            "I0114 17:08:54.014279 139748708702080 basic_session_run_hooks.py:702] global_step/sec: 77.8693\n"
          ],
          "name": "stderr"
        },
        {
          "output_type": "stream",
          "text": [
            "INFO:tensorflow:loss = 186.27756, step = 200 (1.286 sec)\n"
          ],
          "name": "stdout"
        },
        {
          "output_type": "stream",
          "text": [
            "I0114 17:08:54.021277 139748708702080 basic_session_run_hooks.py:260] loss = 186.27756, step = 200 (1.286 sec)\n"
          ],
          "name": "stderr"
        },
        {
          "output_type": "stream",
          "text": [
            "INFO:tensorflow:global_step/sec: 78.938\n"
          ],
          "name": "stdout"
        },
        {
          "output_type": "stream",
          "text": [
            "I0114 17:08:55.281118 139748708702080 basic_session_run_hooks.py:702] global_step/sec: 78.938\n"
          ],
          "name": "stderr"
        },
        {
          "output_type": "stream",
          "text": [
            "INFO:tensorflow:loss = 152.4763, step = 300 (1.265 sec)\n"
          ],
          "name": "stdout"
        },
        {
          "output_type": "stream",
          "text": [
            "I0114 17:08:55.285879 139748708702080 basic_session_run_hooks.py:260] loss = 152.4763, step = 300 (1.265 sec)\n"
          ],
          "name": "stderr"
        },
        {
          "output_type": "stream",
          "text": [
            "INFO:tensorflow:global_step/sec: 77.191\n"
          ],
          "name": "stdout"
        },
        {
          "output_type": "stream",
          "text": [
            "I0114 17:08:56.576598 139748708702080 basic_session_run_hooks.py:702] global_step/sec: 77.191\n"
          ],
          "name": "stderr"
        },
        {
          "output_type": "stream",
          "text": [
            "INFO:tensorflow:loss = 163.30296, step = 400 (1.296 sec)\n"
          ],
          "name": "stdout"
        },
        {
          "output_type": "stream",
          "text": [
            "I0114 17:08:56.581983 139748708702080 basic_session_run_hooks.py:260] loss = 163.30296, step = 400 (1.296 sec)\n"
          ],
          "name": "stderr"
        },
        {
          "output_type": "stream",
          "text": [
            "INFO:tensorflow:global_step/sec: 76.7597\n"
          ],
          "name": "stdout"
        },
        {
          "output_type": "stream",
          "text": [
            "I0114 17:08:57.879350 139748708702080 basic_session_run_hooks.py:702] global_step/sec: 76.7597\n"
          ],
          "name": "stderr"
        },
        {
          "output_type": "stream",
          "text": [
            "INFO:tensorflow:loss = 160.84712, step = 500 (1.303 sec)\n"
          ],
          "name": "stdout"
        },
        {
          "output_type": "stream",
          "text": [
            "I0114 17:08:57.884677 139748708702080 basic_session_run_hooks.py:260] loss = 160.84712, step = 500 (1.303 sec)\n"
          ],
          "name": "stderr"
        },
        {
          "output_type": "stream",
          "text": [
            "INFO:tensorflow:global_step/sec: 77.7983\n"
          ],
          "name": "stdout"
        },
        {
          "output_type": "stream",
          "text": [
            "I0114 17:08:59.164724 139748708702080 basic_session_run_hooks.py:702] global_step/sec: 77.7983\n"
          ],
          "name": "stderr"
        },
        {
          "output_type": "stream",
          "text": [
            "INFO:tensorflow:loss = 143.71478, step = 600 (1.286 sec)\n"
          ],
          "name": "stdout"
        },
        {
          "output_type": "stream",
          "text": [
            "I0114 17:08:59.171072 139748708702080 basic_session_run_hooks.py:260] loss = 143.71478, step = 600 (1.286 sec)\n"
          ],
          "name": "stderr"
        },
        {
          "output_type": "stream",
          "text": [
            "INFO:tensorflow:global_step/sec: 76.516\n"
          ],
          "name": "stdout"
        },
        {
          "output_type": "stream",
          "text": [
            "I0114 17:09:00.471644 139748708702080 basic_session_run_hooks.py:702] global_step/sec: 76.516\n"
          ],
          "name": "stderr"
        },
        {
          "output_type": "stream",
          "text": [
            "INFO:tensorflow:loss = 167.29117, step = 700 (1.307 sec)\n"
          ],
          "name": "stdout"
        },
        {
          "output_type": "stream",
          "text": [
            "I0114 17:09:00.478404 139748708702080 basic_session_run_hooks.py:260] loss = 167.29117, step = 700 (1.307 sec)\n"
          ],
          "name": "stderr"
        },
        {
          "output_type": "stream",
          "text": [
            "INFO:tensorflow:global_step/sec: 76.5564\n"
          ],
          "name": "stdout"
        },
        {
          "output_type": "stream",
          "text": [
            "I0114 17:09:01.777863 139748708702080 basic_session_run_hooks.py:702] global_step/sec: 76.5564\n"
          ],
          "name": "stderr"
        },
        {
          "output_type": "stream",
          "text": [
            "INFO:tensorflow:loss = 150.42091, step = 800 (1.305 sec)\n"
          ],
          "name": "stdout"
        },
        {
          "output_type": "stream",
          "text": [
            "I0114 17:09:01.782948 139748708702080 basic_session_run_hooks.py:260] loss = 150.42091, step = 800 (1.305 sec)\n"
          ],
          "name": "stderr"
        },
        {
          "output_type": "stream",
          "text": [
            "INFO:tensorflow:global_step/sec: 78.5781\n"
          ],
          "name": "stdout"
        },
        {
          "output_type": "stream",
          "text": [
            "I0114 17:09:03.050489 139748708702080 basic_session_run_hooks.py:702] global_step/sec: 78.5781\n"
          ],
          "name": "stderr"
        },
        {
          "output_type": "stream",
          "text": [
            "INFO:tensorflow:loss = 158.20476, step = 900 (1.275 sec)\n"
          ],
          "name": "stdout"
        },
        {
          "output_type": "stream",
          "text": [
            "I0114 17:09:03.057482 139748708702080 basic_session_run_hooks.py:260] loss = 158.20476, step = 900 (1.275 sec)\n"
          ],
          "name": "stderr"
        },
        {
          "output_type": "stream",
          "text": [
            "INFO:tensorflow:global_step/sec: 77.9796\n"
          ],
          "name": "stdout"
        },
        {
          "output_type": "stream",
          "text": [
            "I0114 17:09:04.332870 139748708702080 basic_session_run_hooks.py:702] global_step/sec: 77.9796\n"
          ],
          "name": "stderr"
        },
        {
          "output_type": "stream",
          "text": [
            "INFO:tensorflow:loss = 155.06476, step = 1000 (1.280 sec)\n"
          ],
          "name": "stdout"
        },
        {
          "output_type": "stream",
          "text": [
            "I0114 17:09:04.337574 139748708702080 basic_session_run_hooks.py:260] loss = 155.06476, step = 1000 (1.280 sec)\n"
          ],
          "name": "stderr"
        },
        {
          "output_type": "stream",
          "text": [
            "INFO:tensorflow:global_step/sec: 77.5735\n"
          ],
          "name": "stdout"
        },
        {
          "output_type": "stream",
          "text": [
            "I0114 17:09:05.621977 139748708702080 basic_session_run_hooks.py:702] global_step/sec: 77.5735\n"
          ],
          "name": "stderr"
        },
        {
          "output_type": "stream",
          "text": [
            "INFO:tensorflow:loss = 162.88739, step = 1100 (1.291 sec)\n"
          ],
          "name": "stdout"
        },
        {
          "output_type": "stream",
          "text": [
            "I0114 17:09:05.628421 139748708702080 basic_session_run_hooks.py:260] loss = 162.88739, step = 1100 (1.291 sec)\n"
          ],
          "name": "stderr"
        },
        {
          "output_type": "stream",
          "text": [
            "INFO:tensorflow:global_step/sec: 77.8983\n"
          ],
          "name": "stdout"
        },
        {
          "output_type": "stream",
          "text": [
            "I0114 17:09:06.905705 139748708702080 basic_session_run_hooks.py:702] global_step/sec: 77.8983\n"
          ],
          "name": "stderr"
        },
        {
          "output_type": "stream",
          "text": [
            "INFO:tensorflow:loss = 151.88828, step = 1200 (1.284 sec)\n"
          ],
          "name": "stdout"
        },
        {
          "output_type": "stream",
          "text": [
            "I0114 17:09:06.911962 139748708702080 basic_session_run_hooks.py:260] loss = 151.88828, step = 1200 (1.284 sec)\n"
          ],
          "name": "stderr"
        },
        {
          "output_type": "stream",
          "text": [
            "INFO:tensorflow:global_step/sec: 77.707\n"
          ],
          "name": "stdout"
        },
        {
          "output_type": "stream",
          "text": [
            "I0114 17:09:08.192587 139748708702080 basic_session_run_hooks.py:702] global_step/sec: 77.707\n"
          ],
          "name": "stderr"
        },
        {
          "output_type": "stream",
          "text": [
            "INFO:tensorflow:loss = 162.52908, step = 1300 (1.285 sec)\n"
          ],
          "name": "stdout"
        },
        {
          "output_type": "stream",
          "text": [
            "I0114 17:09:08.197430 139748708702080 basic_session_run_hooks.py:260] loss = 162.52908, step = 1300 (1.285 sec)\n"
          ],
          "name": "stderr"
        },
        {
          "output_type": "stream",
          "text": [
            "INFO:tensorflow:global_step/sec: 77.7334\n"
          ],
          "name": "stdout"
        },
        {
          "output_type": "stream",
          "text": [
            "I0114 17:09:09.479044 139748708702080 basic_session_run_hooks.py:702] global_step/sec: 77.7334\n"
          ],
          "name": "stderr"
        },
        {
          "output_type": "stream",
          "text": [
            "INFO:tensorflow:loss = 156.60612, step = 1400 (1.289 sec)\n"
          ],
          "name": "stdout"
        },
        {
          "output_type": "stream",
          "text": [
            "I0114 17:09:09.486363 139748708702080 basic_session_run_hooks.py:260] loss = 156.60612, step = 1400 (1.289 sec)\n"
          ],
          "name": "stderr"
        },
        {
          "output_type": "stream",
          "text": [
            "INFO:tensorflow:global_step/sec: 77.6713\n"
          ],
          "name": "stdout"
        },
        {
          "output_type": "stream",
          "text": [
            "I0114 17:09:10.766505 139748708702080 basic_session_run_hooks.py:702] global_step/sec: 77.6713\n"
          ],
          "name": "stderr"
        },
        {
          "output_type": "stream",
          "text": [
            "INFO:tensorflow:loss = 174.0922, step = 1500 (1.286 sec)\n"
          ],
          "name": "stdout"
        },
        {
          "output_type": "stream",
          "text": [
            "I0114 17:09:10.772170 139748708702080 basic_session_run_hooks.py:260] loss = 174.0922, step = 1500 (1.286 sec)\n"
          ],
          "name": "stderr"
        },
        {
          "output_type": "stream",
          "text": [
            "INFO:tensorflow:global_step/sec: 77.7457\n"
          ],
          "name": "stdout"
        },
        {
          "output_type": "stream",
          "text": [
            "I0114 17:09:12.052747 139748708702080 basic_session_run_hooks.py:702] global_step/sec: 77.7457\n"
          ],
          "name": "stderr"
        },
        {
          "output_type": "stream",
          "text": [
            "INFO:tensorflow:loss = 160.9146, step = 1600 (1.284 sec)\n"
          ],
          "name": "stdout"
        },
        {
          "output_type": "stream",
          "text": [
            "I0114 17:09:12.056486 139748708702080 basic_session_run_hooks.py:260] loss = 160.9146, step = 1600 (1.284 sec)\n"
          ],
          "name": "stderr"
        },
        {
          "output_type": "stream",
          "text": [
            "INFO:tensorflow:global_step/sec: 78.3046\n"
          ],
          "name": "stdout"
        },
        {
          "output_type": "stream",
          "text": [
            "I0114 17:09:13.329814 139748708702080 basic_session_run_hooks.py:702] global_step/sec: 78.3046\n"
          ],
          "name": "stderr"
        },
        {
          "output_type": "stream",
          "text": [
            "INFO:tensorflow:loss = 152.37181, step = 1700 (1.281 sec)\n"
          ],
          "name": "stdout"
        },
        {
          "output_type": "stream",
          "text": [
            "I0114 17:09:13.337073 139748708702080 basic_session_run_hooks.py:260] loss = 152.37181, step = 1700 (1.281 sec)\n"
          ],
          "name": "stderr"
        },
        {
          "output_type": "stream",
          "text": [
            "INFO:tensorflow:global_step/sec: 77.5523\n"
          ],
          "name": "stdout"
        },
        {
          "output_type": "stream",
          "text": [
            "I0114 17:09:14.619269 139748708702080 basic_session_run_hooks.py:702] global_step/sec: 77.5523\n"
          ],
          "name": "stderr"
        },
        {
          "output_type": "stream",
          "text": [
            "INFO:tensorflow:loss = 156.81358, step = 1800 (1.288 sec)\n"
          ],
          "name": "stdout"
        },
        {
          "output_type": "stream",
          "text": [
            "I0114 17:09:14.624732 139748708702080 basic_session_run_hooks.py:260] loss = 156.81358, step = 1800 (1.288 sec)\n"
          ],
          "name": "stderr"
        },
        {
          "output_type": "stream",
          "text": [
            "INFO:tensorflow:global_step/sec: 76.929\n"
          ],
          "name": "stdout"
        },
        {
          "output_type": "stream",
          "text": [
            "I0114 17:09:15.919170 139748708702080 basic_session_run_hooks.py:702] global_step/sec: 76.929\n"
          ],
          "name": "stderr"
        },
        {
          "output_type": "stream",
          "text": [
            "INFO:tensorflow:loss = 160.12576, step = 1900 (1.301 sec)\n"
          ],
          "name": "stdout"
        },
        {
          "output_type": "stream",
          "text": [
            "I0114 17:09:15.925285 139748708702080 basic_session_run_hooks.py:260] loss = 160.12576, step = 1900 (1.301 sec)\n"
          ],
          "name": "stderr"
        },
        {
          "output_type": "stream",
          "text": [
            "INFO:tensorflow:global_step/sec: 77.2343\n"
          ],
          "name": "stdout"
        },
        {
          "output_type": "stream",
          "text": [
            "I0114 17:09:17.213931 139748708702080 basic_session_run_hooks.py:702] global_step/sec: 77.2343\n"
          ],
          "name": "stderr"
        },
        {
          "output_type": "stream",
          "text": [
            "INFO:tensorflow:loss = 165.55641, step = 2000 (1.294 sec)\n"
          ],
          "name": "stdout"
        },
        {
          "output_type": "stream",
          "text": [
            "I0114 17:09:17.219114 139748708702080 basic_session_run_hooks.py:260] loss = 165.55641, step = 2000 (1.294 sec)\n"
          ],
          "name": "stderr"
        },
        {
          "output_type": "stream",
          "text": [
            "INFO:tensorflow:global_step/sec: 77.2182\n"
          ],
          "name": "stdout"
        },
        {
          "output_type": "stream",
          "text": [
            "I0114 17:09:18.508966 139748708702080 basic_session_run_hooks.py:702] global_step/sec: 77.2182\n"
          ],
          "name": "stderr"
        },
        {
          "output_type": "stream",
          "text": [
            "INFO:tensorflow:loss = 161.62137, step = 2100 (1.295 sec)\n"
          ],
          "name": "stdout"
        },
        {
          "output_type": "stream",
          "text": [
            "I0114 17:09:18.514586 139748708702080 basic_session_run_hooks.py:260] loss = 161.62137, step = 2100 (1.295 sec)\n"
          ],
          "name": "stderr"
        },
        {
          "output_type": "stream",
          "text": [
            "INFO:tensorflow:global_step/sec: 77.2762\n"
          ],
          "name": "stdout"
        },
        {
          "output_type": "stream",
          "text": [
            "I0114 17:09:19.803030 139748708702080 basic_session_run_hooks.py:702] global_step/sec: 77.2762\n"
          ],
          "name": "stderr"
        },
        {
          "output_type": "stream",
          "text": [
            "INFO:tensorflow:loss = 149.85376, step = 2200 (1.292 sec)\n"
          ],
          "name": "stdout"
        },
        {
          "output_type": "stream",
          "text": [
            "I0114 17:09:19.806599 139748708702080 basic_session_run_hooks.py:260] loss = 149.85376, step = 2200 (1.292 sec)\n"
          ],
          "name": "stderr"
        },
        {
          "output_type": "stream",
          "text": [
            "INFO:tensorflow:global_step/sec: 76.1453\n"
          ],
          "name": "stdout"
        },
        {
          "output_type": "stream",
          "text": [
            "I0114 17:09:21.116287 139748708702080 basic_session_run_hooks.py:702] global_step/sec: 76.1453\n"
          ],
          "name": "stderr"
        },
        {
          "output_type": "stream",
          "text": [
            "INFO:tensorflow:loss = 149.8602, step = 2300 (1.316 sec)\n"
          ],
          "name": "stdout"
        },
        {
          "output_type": "stream",
          "text": [
            "I0114 17:09:21.122597 139748708702080 basic_session_run_hooks.py:260] loss = 149.8602, step = 2300 (1.316 sec)\n"
          ],
          "name": "stderr"
        },
        {
          "output_type": "stream",
          "text": [
            "INFO:tensorflow:global_step/sec: 78.6475\n"
          ],
          "name": "stdout"
        },
        {
          "output_type": "stream",
          "text": [
            "I0114 17:09:22.387800 139748708702080 basic_session_run_hooks.py:702] global_step/sec: 78.6475\n"
          ],
          "name": "stderr"
        },
        {
          "output_type": "stream",
          "text": [
            "INFO:tensorflow:loss = 159.18039, step = 2400 (1.268 sec)\n"
          ],
          "name": "stdout"
        },
        {
          "output_type": "stream",
          "text": [
            "I0114 17:09:22.390725 139748708702080 basic_session_run_hooks.py:260] loss = 159.18039, step = 2400 (1.268 sec)\n"
          ],
          "name": "stderr"
        },
        {
          "output_type": "stream",
          "text": [
            "INFO:tensorflow:global_step/sec: 77.7278\n"
          ],
          "name": "stdout"
        },
        {
          "output_type": "stream",
          "text": [
            "I0114 17:09:23.674348 139748708702080 basic_session_run_hooks.py:702] global_step/sec: 77.7278\n"
          ],
          "name": "stderr"
        },
        {
          "output_type": "stream",
          "text": [
            "INFO:tensorflow:loss = 162.03882, step = 2500 (1.289 sec)\n"
          ],
          "name": "stdout"
        },
        {
          "output_type": "stream",
          "text": [
            "I0114 17:09:23.680085 139748708702080 basic_session_run_hooks.py:260] loss = 162.03882, step = 2500 (1.289 sec)\n"
          ],
          "name": "stderr"
        },
        {
          "output_type": "stream",
          "text": [
            "INFO:tensorflow:global_step/sec: 77.5043\n"
          ],
          "name": "stdout"
        },
        {
          "output_type": "stream",
          "text": [
            "I0114 17:09:24.964600 139748708702080 basic_session_run_hooks.py:702] global_step/sec: 77.5043\n"
          ],
          "name": "stderr"
        },
        {
          "output_type": "stream",
          "text": [
            "INFO:tensorflow:loss = 158.39137, step = 2600 (1.289 sec)\n"
          ],
          "name": "stdout"
        },
        {
          "output_type": "stream",
          "text": [
            "I0114 17:09:24.969283 139748708702080 basic_session_run_hooks.py:260] loss = 158.39137, step = 2600 (1.289 sec)\n"
          ],
          "name": "stderr"
        },
        {
          "output_type": "stream",
          "text": [
            "INFO:tensorflow:global_step/sec: 78.5313\n"
          ],
          "name": "stdout"
        },
        {
          "output_type": "stream",
          "text": [
            "I0114 17:09:26.237960 139748708702080 basic_session_run_hooks.py:702] global_step/sec: 78.5313\n"
          ],
          "name": "stderr"
        },
        {
          "output_type": "stream",
          "text": [
            "INFO:tensorflow:loss = 147.77074, step = 2700 (1.273 sec)\n"
          ],
          "name": "stdout"
        },
        {
          "output_type": "stream",
          "text": [
            "I0114 17:09:26.242489 139748708702080 basic_session_run_hooks.py:260] loss = 147.77074, step = 2700 (1.273 sec)\n"
          ],
          "name": "stderr"
        },
        {
          "output_type": "stream",
          "text": [
            "INFO:tensorflow:global_step/sec: 78.2725\n"
          ],
          "name": "stdout"
        },
        {
          "output_type": "stream",
          "text": [
            "I0114 17:09:27.515563 139748708702080 basic_session_run_hooks.py:702] global_step/sec: 78.2725\n"
          ],
          "name": "stderr"
        },
        {
          "output_type": "stream",
          "text": [
            "INFO:tensorflow:loss = 153.12277, step = 2800 (1.280 sec)\n"
          ],
          "name": "stdout"
        },
        {
          "output_type": "stream",
          "text": [
            "I0114 17:09:27.522621 139748708702080 basic_session_run_hooks.py:260] loss = 153.12277, step = 2800 (1.280 sec)\n"
          ],
          "name": "stderr"
        },
        {
          "output_type": "stream",
          "text": [
            "INFO:tensorflow:global_step/sec: 77.5632\n"
          ],
          "name": "stdout"
        },
        {
          "output_type": "stream",
          "text": [
            "I0114 17:09:28.804838 139748708702080 basic_session_run_hooks.py:702] global_step/sec: 77.5632\n"
          ],
          "name": "stderr"
        },
        {
          "output_type": "stream",
          "text": [
            "INFO:tensorflow:loss = 157.49579, step = 2900 (1.289 sec)\n"
          ],
          "name": "stdout"
        },
        {
          "output_type": "stream",
          "text": [
            "I0114 17:09:28.811759 139748708702080 basic_session_run_hooks.py:260] loss = 157.49579, step = 2900 (1.289 sec)\n"
          ],
          "name": "stderr"
        },
        {
          "output_type": "stream",
          "text": [
            "INFO:tensorflow:global_step/sec: 78.1033\n"
          ],
          "name": "stdout"
        },
        {
          "output_type": "stream",
          "text": [
            "I0114 17:09:30.085176 139748708702080 basic_session_run_hooks.py:702] global_step/sec: 78.1033\n"
          ],
          "name": "stderr"
        },
        {
          "output_type": "stream",
          "text": [
            "INFO:tensorflow:loss = 140.48065, step = 3000 (1.278 sec)\n"
          ],
          "name": "stdout"
        },
        {
          "output_type": "stream",
          "text": [
            "I0114 17:09:30.089895 139748708702080 basic_session_run_hooks.py:260] loss = 140.48065, step = 3000 (1.278 sec)\n"
          ],
          "name": "stderr"
        },
        {
          "output_type": "stream",
          "text": [
            "INFO:tensorflow:global_step/sec: 78.3961\n"
          ],
          "name": "stdout"
        },
        {
          "output_type": "stream",
          "text": [
            "I0114 17:09:31.360780 139748708702080 basic_session_run_hooks.py:702] global_step/sec: 78.3961\n"
          ],
          "name": "stderr"
        },
        {
          "output_type": "stream",
          "text": [
            "INFO:tensorflow:loss = 160.89337, step = 3100 (1.278 sec)\n"
          ],
          "name": "stdout"
        },
        {
          "output_type": "stream",
          "text": [
            "I0114 17:09:31.367988 139748708702080 basic_session_run_hooks.py:260] loss = 160.89337, step = 3100 (1.278 sec)\n"
          ],
          "name": "stderr"
        },
        {
          "output_type": "stream",
          "text": [
            "INFO:tensorflow:global_step/sec: 77.9984\n"
          ],
          "name": "stdout"
        },
        {
          "output_type": "stream",
          "text": [
            "I0114 17:09:32.642831 139748708702080 basic_session_run_hooks.py:702] global_step/sec: 77.9984\n"
          ],
          "name": "stderr"
        },
        {
          "output_type": "stream",
          "text": [
            "INFO:tensorflow:loss = 158.91592, step = 3200 (1.279 sec)\n"
          ],
          "name": "stdout"
        },
        {
          "output_type": "stream",
          "text": [
            "I0114 17:09:32.647440 139748708702080 basic_session_run_hooks.py:260] loss = 158.91592, step = 3200 (1.279 sec)\n"
          ],
          "name": "stderr"
        },
        {
          "output_type": "stream",
          "text": [
            "INFO:tensorflow:global_step/sec: 79.0038\n"
          ],
          "name": "stdout"
        },
        {
          "output_type": "stream",
          "text": [
            "I0114 17:09:33.908601 139748708702080 basic_session_run_hooks.py:702] global_step/sec: 79.0038\n"
          ],
          "name": "stderr"
        },
        {
          "output_type": "stream",
          "text": [
            "INFO:tensorflow:loss = 149.62692, step = 3300 (1.267 sec)\n"
          ],
          "name": "stdout"
        },
        {
          "output_type": "stream",
          "text": [
            "I0114 17:09:33.914296 139748708702080 basic_session_run_hooks.py:260] loss = 149.62692, step = 3300 (1.267 sec)\n"
          ],
          "name": "stderr"
        },
        {
          "output_type": "stream",
          "text": [
            "INFO:tensorflow:global_step/sec: 77.2135\n"
          ],
          "name": "stdout"
        },
        {
          "output_type": "stream",
          "text": [
            "I0114 17:09:35.203715 139748708702080 basic_session_run_hooks.py:702] global_step/sec: 77.2135\n"
          ],
          "name": "stderr"
        },
        {
          "output_type": "stream",
          "text": [
            "INFO:tensorflow:loss = 166.88976, step = 3400 (1.296 sec)\n"
          ],
          "name": "stdout"
        },
        {
          "output_type": "stream",
          "text": [
            "I0114 17:09:35.210203 139748708702080 basic_session_run_hooks.py:260] loss = 166.88976, step = 3400 (1.296 sec)\n"
          ],
          "name": "stderr"
        },
        {
          "output_type": "stream",
          "text": [
            "INFO:tensorflow:global_step/sec: 77.5262\n"
          ],
          "name": "stdout"
        },
        {
          "output_type": "stream",
          "text": [
            "I0114 17:09:36.493594 139748708702080 basic_session_run_hooks.py:702] global_step/sec: 77.5262\n"
          ],
          "name": "stderr"
        },
        {
          "output_type": "stream",
          "text": [
            "INFO:tensorflow:loss = 160.73984, step = 3500 (1.290 sec)\n"
          ],
          "name": "stdout"
        },
        {
          "output_type": "stream",
          "text": [
            "I0114 17:09:36.500153 139748708702080 basic_session_run_hooks.py:260] loss = 160.73984, step = 3500 (1.290 sec)\n"
          ],
          "name": "stderr"
        },
        {
          "output_type": "stream",
          "text": [
            "INFO:tensorflow:global_step/sec: 78.7573\n"
          ],
          "name": "stdout"
        },
        {
          "output_type": "stream",
          "text": [
            "I0114 17:09:37.763319 139748708702080 basic_session_run_hooks.py:702] global_step/sec: 78.7573\n"
          ],
          "name": "stderr"
        },
        {
          "output_type": "stream",
          "text": [
            "INFO:tensorflow:loss = 158.11171, step = 3600 (1.268 sec)\n"
          ],
          "name": "stdout"
        },
        {
          "output_type": "stream",
          "text": [
            "I0114 17:09:37.768392 139748708702080 basic_session_run_hooks.py:260] loss = 158.11171, step = 3600 (1.268 sec)\n"
          ],
          "name": "stderr"
        },
        {
          "output_type": "stream",
          "text": [
            "INFO:tensorflow:global_step/sec: 77.777\n"
          ],
          "name": "stdout"
        },
        {
          "output_type": "stream",
          "text": [
            "I0114 17:09:39.049056 139748708702080 basic_session_run_hooks.py:702] global_step/sec: 77.777\n"
          ],
          "name": "stderr"
        },
        {
          "output_type": "stream",
          "text": [
            "INFO:tensorflow:loss = 145.2311, step = 3700 (1.286 sec)\n"
          ],
          "name": "stdout"
        },
        {
          "output_type": "stream",
          "text": [
            "I0114 17:09:39.054629 139748708702080 basic_session_run_hooks.py:260] loss = 145.2311, step = 3700 (1.286 sec)\n"
          ],
          "name": "stderr"
        },
        {
          "output_type": "stream",
          "text": [
            "INFO:tensorflow:global_step/sec: 77.3036\n"
          ],
          "name": "stdout"
        },
        {
          "output_type": "stream",
          "text": [
            "I0114 17:09:40.342651 139748708702080 basic_session_run_hooks.py:702] global_step/sec: 77.3036\n"
          ],
          "name": "stderr"
        },
        {
          "output_type": "stream",
          "text": [
            "INFO:tensorflow:loss = 165.81029, step = 3800 (1.292 sec)\n"
          ],
          "name": "stdout"
        },
        {
          "output_type": "stream",
          "text": [
            "I0114 17:09:40.346680 139748708702080 basic_session_run_hooks.py:260] loss = 165.81029, step = 3800 (1.292 sec)\n"
          ],
          "name": "stderr"
        },
        {
          "output_type": "stream",
          "text": [
            "INFO:tensorflow:global_step/sec: 77.9981\n"
          ],
          "name": "stdout"
        },
        {
          "output_type": "stream",
          "text": [
            "I0114 17:09:41.624722 139748708702080 basic_session_run_hooks.py:702] global_step/sec: 77.9981\n"
          ],
          "name": "stderr"
        },
        {
          "output_type": "stream",
          "text": [
            "INFO:tensorflow:loss = 157.04431, step = 3900 (1.285 sec)\n"
          ],
          "name": "stdout"
        },
        {
          "output_type": "stream",
          "text": [
            "I0114 17:09:41.631482 139748708702080 basic_session_run_hooks.py:260] loss = 157.04431, step = 3900 (1.285 sec)\n"
          ],
          "name": "stderr"
        },
        {
          "output_type": "stream",
          "text": [
            "INFO:tensorflow:Calling checkpoint listeners before saving checkpoint 4000...\n"
          ],
          "name": "stdout"
        },
        {
          "output_type": "stream",
          "text": [
            "I0114 17:09:42.877162 139748708702080 basic_session_run_hooks.py:614] Calling checkpoint listeners before saving checkpoint 4000...\n"
          ],
          "name": "stderr"
        },
        {
          "output_type": "stream",
          "text": [
            "INFO:tensorflow:Saving checkpoints for 4000 into /content/Results/model.ckpt.\n"
          ],
          "name": "stdout"
        },
        {
          "output_type": "stream",
          "text": [
            "I0114 17:09:42.879146 139748708702080 basic_session_run_hooks.py:618] Saving checkpoints for 4000 into /content/Results/model.ckpt.\n"
          ],
          "name": "stderr"
        },
        {
          "output_type": "stream",
          "text": [
            "INFO:tensorflow:Calling checkpoint listeners after saving checkpoint 4000...\n"
          ],
          "name": "stdout"
        },
        {
          "output_type": "stream",
          "text": [
            "I0114 17:09:43.008409 139748708702080 basic_session_run_hooks.py:626] Calling checkpoint listeners after saving checkpoint 4000...\n"
          ],
          "name": "stderr"
        },
        {
          "output_type": "stream",
          "text": [
            "INFO:tensorflow:Loss for final step: 150.18468.\n"
          ],
          "name": "stdout"
        },
        {
          "output_type": "stream",
          "text": [
            "I0114 17:09:43.082234 139748708702080 estimator.py:350] Loss for final step: 150.18468.\n"
          ],
          "name": "stderr"
        },
        {
          "output_type": "stream",
          "text": [
            "##################### TRAINING FINISHED ############################\n",
            "INFO:tensorflow:Calling model_fn.\n"
          ],
          "name": "stdout"
        },
        {
          "output_type": "stream",
          "text": [
            "I0114 17:09:43.114325 139748708702080 estimator.py:1162] Calling model_fn.\n"
          ],
          "name": "stderr"
        },
        {
          "output_type": "stream",
          "text": [
            "WARNING:tensorflow:Model was constructed with shape (None, 16) for input Tensor(\"dense_4_input:0\", shape=(None, 16), dtype=float32), but it was called on an input with incompatible shape (None, 1, 1, 16).\n"
          ],
          "name": "stdout"
        },
        {
          "output_type": "stream",
          "text": [
            "W0114 17:09:43.301737 139748708702080 functional.py:639] Model was constructed with shape (None, 16) for input Tensor(\"dense_4_input:0\", shape=(None, 16), dtype=float32), but it was called on an input with incompatible shape (None, 1, 1, 16).\n"
          ],
          "name": "stderr"
        },
        {
          "output_type": "stream",
          "text": [
            "LOGLIKELIHOOD :  Tensor(\"Neg_1:0\", shape=(), dtype=float32)\n",
            "WARNING:tensorflow:Model was constructed with shape (None, 16) for input Tensor(\"dense_4_input:0\", shape=(None, 16), dtype=float32), but it was called on an input with incompatible shape (16, 1, 1, 16).\n"
          ],
          "name": "stdout"
        },
        {
          "output_type": "stream",
          "text": [
            "W0114 17:09:43.684282 139748708702080 functional.py:639] Model was constructed with shape (None, 16) for input Tensor(\"dense_4_input:0\", shape=(None, 16), dtype=float32), but it was called on an input with incompatible shape (16, 1, 1, 16).\n"
          ],
          "name": "stderr"
        },
        {
          "output_type": "stream",
          "text": [
            "INFO:tensorflow:Done calling model_fn.\n"
          ],
          "name": "stdout"
        },
        {
          "output_type": "stream",
          "text": [
            "I0114 17:09:44.256914 139748708702080 estimator.py:1164] Done calling model_fn.\n"
          ],
          "name": "stderr"
        },
        {
          "output_type": "stream",
          "text": [
            "INFO:tensorflow:Starting evaluation at 2021-01-14T17:09:44Z\n"
          ],
          "name": "stdout"
        },
        {
          "output_type": "stream",
          "text": [
            "I0114 17:09:44.280096 139748708702080 evaluation.py:255] Starting evaluation at 2021-01-14T17:09:44Z\n"
          ],
          "name": "stderr"
        },
        {
          "output_type": "stream",
          "text": [
            "INFO:tensorflow:Graph was finalized.\n"
          ],
          "name": "stdout"
        },
        {
          "output_type": "stream",
          "text": [
            "I0114 17:09:44.401339 139748708702080 monitored_session.py:246] Graph was finalized.\n"
          ],
          "name": "stderr"
        },
        {
          "output_type": "stream",
          "text": [
            "INFO:tensorflow:Restoring parameters from /content/Results/model.ckpt-4000\n"
          ],
          "name": "stdout"
        },
        {
          "output_type": "stream",
          "text": [
            "I0114 17:09:44.411351 139748708702080 saver.py:1292] Restoring parameters from /content/Results/model.ckpt-4000\n"
          ],
          "name": "stderr"
        },
        {
          "output_type": "stream",
          "text": [
            "INFO:tensorflow:Running local_init_op.\n"
          ],
          "name": "stdout"
        },
        {
          "output_type": "stream",
          "text": [
            "I0114 17:09:44.525672 139748708702080 session_manager.py:505] Running local_init_op.\n"
          ],
          "name": "stderr"
        },
        {
          "output_type": "stream",
          "text": [
            "INFO:tensorflow:Done running local_init_op.\n"
          ],
          "name": "stdout"
        },
        {
          "output_type": "stream",
          "text": [
            "I0114 17:09:44.543693 139748708702080 session_manager.py:508] Done running local_init_op.\n"
          ],
          "name": "stderr"
        },
        {
          "output_type": "stream",
          "text": [
            "INFO:tensorflow:Inference Time : 3.48520s\n"
          ],
          "name": "stdout"
        },
        {
          "output_type": "stream",
          "text": [
            "I0114 17:09:47.768139 139748708702080 evaluation.py:273] Inference Time : 3.48520s\n"
          ],
          "name": "stderr"
        },
        {
          "output_type": "stream",
          "text": [
            "INFO:tensorflow:Finished evaluation at 2021-01-14-17:09:47\n"
          ],
          "name": "stdout"
        },
        {
          "output_type": "stream",
          "text": [
            "I0114 17:09:47.775167 139748708702080 evaluation.py:276] Finished evaluation at 2021-01-14-17:09:47\n"
          ],
          "name": "stderr"
        },
        {
          "output_type": "stream",
          "text": [
            "INFO:tensorflow:Saving dict for global step 4000: distortion = 147.43518, elbo = -157.65775, elbo/importance_weighted = -155.24667, global_step = 4000, loss = 157.65775, rate = 10.222591\n"
          ],
          "name": "stdout"
        },
        {
          "output_type": "stream",
          "text": [
            "I0114 17:09:47.777599 139748708702080 estimator.py:2066] Saving dict for global step 4000: distortion = 147.43518, elbo = -157.65775, elbo/importance_weighted = -155.24667, global_step = 4000, loss = 157.65775, rate = 10.222591\n"
          ],
          "name": "stderr"
        },
        {
          "output_type": "stream",
          "text": [
            "INFO:tensorflow:Saving 'checkpoint_path' summary for global step 4000: /content/Results/model.ckpt-4000\n"
          ],
          "name": "stdout"
        },
        {
          "output_type": "stream",
          "text": [
            "I0114 17:09:47.781575 139748708702080 estimator.py:2127] Saving 'checkpoint_path' summary for global step 4000: /content/Results/model.ckpt-4000\n"
          ],
          "name": "stderr"
        },
        {
          "output_type": "stream",
          "text": [
            "Evaluation_results:\n",
            "\t{'distortion': 147.43518, 'elbo': -157.65775, 'elbo/importance_weighted': -155.24667, 'loss': 157.65775, 'rate': 10.222591, 'global_step': 4000}\n",
            " \n"
          ],
          "name": "stdout"
        },
        {
          "output_type": "error",
          "ename": "SystemExit",
          "evalue": "ignored",
          "traceback": [
            "An exception has occurred, use %tb to see the full traceback.\n",
            "\u001b[0;31mSystemExit\u001b[0m\n"
          ]
        },
        {
          "output_type": "stream",
          "text": [
            "/usr/local/lib/python3.6/dist-packages/IPython/core/interactiveshell.py:2890: UserWarning: To exit: use 'exit', 'quit', or Ctrl-D.\n",
            "  warn(\"To exit: use 'exit', 'quit', or Ctrl-D.\", stacklevel=1)\n"
          ],
          "name": "stderr"
        }
      ]
    },
    {
      "cell_type": "code",
      "metadata": {
        "id": "oFEX9jTpJRSG"
      },
      "source": [
        "logdir = \"/content/Results/\"\n",
        "tensorboard_callback = tf.keras.callbacks.TensorBoard(log_dir=logdir)\n",
        "%load_ext tensorboard\n",
        "%tensorboard --logdir /content/Results/"
      ],
      "execution_count": null,
      "outputs": []
    }
  ]
}